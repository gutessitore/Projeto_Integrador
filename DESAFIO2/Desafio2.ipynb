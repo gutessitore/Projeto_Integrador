{
 "cells": [
  {
   "cell_type": "markdown",
   "metadata": {},
   "source": [
    "# Desafio 2\n",
    "\n",
    "## Instruções básicas\n",
    "\n",
    "O desafio 2 é sobre a extração, limpeza e manipulação de dados no INEP sobre o Censo da Educação Superior. Estão apresentados abaixo um artigo de 2016 sobre a divulgação dos dados, assim como um vídeo sobre esta masma divulgação, da edição de 2015. Além disso, está oferecido o Manual de Instruções da última edição publicada, de 2017.\n",
    "\n",
    "Ao final, são colocadas as questões do desafio em duas partes, a primeira coletiva para ser feita em grupo, e a segunda para ser feita individual. Qualquer dúvida ou comentário, por favor procure o corpo docente."
   ]
  },
  {
   "cell_type": "markdown",
   "metadata": {},
   "source": [
    "# MEC e Inep divulgam dados do Censo da Educação Superior 2016\n",
    "\n",
    "<br>\n",
    "<img src=\"img/inep.png\" width=\"550\" />\n",
    "<br>\n",
    "\n",
    "\n",
    "Em 2016, 34.366 cursos de graduação foram ofertados em 2.407 instituições de educação superior (IES) no Brasil para um total de 8.052.254 estudantes matriculados. Os dados são do Censo da Educação Superior e foram divulgados nesta quinta feira (31) em coletiva de imprensa com a presença do ministro da Educação, Mendonça Filho, da secretária executiva do Ministério da Educação (Mec), Maria Helena Guimarães de Castro, e da presidente do Instituto Nacional de Estudos e Estatísticas Educacionais Anísio Teixeira (Inep), Maria Inês Fini.\n",
    "\n",
    "Segundo as estatísticas apresentadas, as 197 universidades existentes no país equivalem a 8,2% do total de IES, mas concentram 53,7% das matrículas em cursos de graduação.\n",
    "\n",
    "No ano passado, o número de matrículas na educação superior (graduação e sequencial) continuou crescendo, mas essa tendência desacelerou quando se comparado aos últimos anos. Entre 2006 e 2016, houve aumento de 62,8%, com uma média anual de 5% de crescimento. Porém, em relação a 2015, a variação positiva foi de apenas 0,2%.\n",
    "\n",
    "## Cursos\n",
    "\n",
    "Os cursos de bacharelado mantêm sua predominância na educação superior brasileira com uma participação de 69% das matrículas. Os cursos de licenciatura tiveram o maior crescimento (3,3%) entre os graus acadêmicos em 2016, quando comparado a 2015.\n",
    "\n",
    "## Vagas\n",
    "\n",
    "Em 2016, foram oferecidas mais de 10,6 milhões de vagas em cursos de graduação, sendo 73,8% vagas novas e 26,0%, vagas remanescentes. Das novas vagas oferecidas no ano passado, 33,5% foram preenchidas, enquanto apenas 12,0% das vagas remanescentes foram ocupadas no mesmo período.\n",
    "\n",
    "## Ingressantes\n",
    "\n",
    "Em 2016, quase 3 milhões de alunos ingressaram em cursos de educação superior de graduação. Desse total, 82,3% em instituições privadas.\n",
    "Após uma queda observada em 2015, o número de ingressantes teve um crescimento de 2,2% em 2016. Isso ocorreu porque a modalidade a distância aumentou mais de 20% entre os dois anos, enquanto nos cursos presenciais houve um decréscimo no número de ingressantes de 3,7%.\n",
    "\n",
    "## Concluintes\n",
    "\n",
    "No ano passado, mais de um 1,1 milhão de estudantes concluíram a educação superior. O número de concluintes em cursos de graduação presencial teve aumento de 2,4% em relação a 2015. A modalidade a distância diminuiu -1,3% no mesmo período.\n",
    "\n",
    "Entre 2015 e 2016, o número de concluintes na rede pública aumentou 2,9%. Já na rede privada a variação positiva foi de 1,4%. No período de 2006 a 2016, a variação percentual do número de concluintes em cursos de graduação foi maior na rede privada, com 62,6%, enquanto na pública esse crescimento foi de 26,5% no mesmo período.\n",
    "\n",
    "## Censo da Educação Superior\n",
    "\n",
    "O Censo da Educação Superior, realizado anualmente pelo Instituto Nacional de Estudos e Pesquisas Educacionais Anísio Teixeira (Inep), constitui-se importante instrumento de obtenção de dados para a geração de informações que subsidiam a formulação, o monitoramento e a avaliação das políticas públicas, além de ser elemento importante para elaboração de estudos e pesquisas sobre o setor. O Censo coleta informações sobre as Instituições de Educação Superior (IES), os cursos de graduação e sequenciais de formação específica e sobre os discentes e docentes vinculados a esses cursos.\n",
    "\n",
    "Os resultados coletados subsidiam o Sistema Nacional de Avaliação da Educação Superior (Sinaes), seja no cálculo dos indicadores de Conceito Preliminar de Curso (CPC) e do Índice Geral de Cursos (IGC), seja no fornecimento de informações, como número de matrículas, de ingressos, de concluintes, entre outras. As estatísticas possibilitam ainda, através da justaposição de informações de diferentes edições da pesquisa, a análise da trajetória dos estudantes a partir de seu ingresso em determinado curso de graduação, e, consequentemente, a geração de indicadores de acompanhamento e de fluxo na educação superior."
   ]
  },
  {
   "cell_type": "code",
   "execution_count": 1,
   "metadata": {
    "scrolled": false
   },
   "outputs": [
    {
     "name": "stderr",
     "output_type": "stream",
     "text": [
      "C:\\Users\\marco\\Anaconda3\\lib\\site-packages\\IPython\\core\\display.py:689: UserWarning: Consider using IPython.display.IFrame instead\n",
      "  warnings.warn(\"Consider using IPython.display.IFrame instead\")\n"
     ]
    },
    {
     "data": {
      "text/html": [
       "<iframe width=\"640\" height=\"360\" src=\"https://www.youtube.com/embed/31rWZN5D_YE\" frameborder=\"0\" allow=\"accelerometer; autoplay; encrypted-media; gyroscope; picture-in-picture\" allowfullscreen></iframe>"
      ],
      "text/plain": [
       "<IPython.core.display.HTML object>"
      ]
     },
     "execution_count": 1,
     "metadata": {},
     "output_type": "execute_result"
    }
   ],
   "source": [
    "# Vídeo sobre a divulgação dos resultados do Censo da Educação Superior da edição de 2015\n",
    "\n",
    "from IPython.display import HTML\n",
    "\n",
    "\n",
    "HTML('<iframe width=\"640\" height=\"360\" src=\"https://www.youtube.com/embed/31rWZN5D_YE\" frameborder=\"0\" allow=\"accelerometer; autoplay; encrypted-media; gyroscope; picture-in-picture\" allowfullscreen></iframe>')"
   ]
  },
  {
   "cell_type": "markdown",
   "metadata": {},
   "source": [
    "# Microdados do Censo da Educação Superior 2017 \n",
    "\n",
    "## Manual do Usuário \n",
    "\n",
    "### Ministério da Educação Instituto Nacional de Estudos e Pesquisas Educacionais Anísio Teixeira – INEP Diretoria de Estatísticas Educacionais \n",
    "\n",
    "O Instituto Nacional de Estudos e Pesquisas Educacionais Anísio Teixeira (Inep), autarquia vinculada ao Ministério da Educação, tem como missão institucional produzir e disseminar informações educacionais. As estatísticas e avaliações produzidas pelo Inep visam fornecer os subsídios para a formulação e implementação de políticas voltadas para a melhoria contínua da educação no país. \n",
    "\n",
    "Entre as informações educacionais produzidas pelo Inep, destacam-se os dados coletados no Censo da Educação Superior, levantamento de âmbito nacional, realizado anualmente pela Diretoria de Estatísticas Educacionais em todas as Instituições de Educação Superior (IES), públicas e privadas do país. \n",
    "\n",
    "O Inep desenvolve uma série de ações de disseminação de dados que se encontram divulgados de forma ativa no portal do instituto na internet (www.inep.gov.br ). O presente documento figura entre os instrumentos utilizados por este Instituto para garantir a transparência requerida pela sociedade e promover a participação dos diferentes agentes sociais envolvidos nas ações educativas. \n",
    "\n",
    "Nesse contexto, os Microdados foram estruturados em formato CSV (CommaSeparated Values) e seus dados estão delimitados por Pipe ( | ), de modo a garantir que praticamente qualquer software estatístico, inclusive open source, consiga importar e carregar as bases de dados. \n",
    "\n",
    "Por meio dos Microdados é possível obter um amplo panorama da educação brasileira e, como importante ferramenta de transparência, é indubitavelmente um rico acervo sobre a educação superior do nosso país e uma fonte segura e eficaz de obtenção de dados, acessíveis aos pesquisadores, estudantes, gestores e sociedade em geral. \n",
    "\n",
    "#### DADOS \n",
    "\n",
    "Estão disponíveis no site do Inep os Microdados do Censo da Educação Superior 2017 (DM_IES, DM_CURSO, DM_DOCENTE, DM_ALUNO, DM_LOCAL_OFERTA e TB_AUX_AREA_OCDE) em formato CSV delimitados por Pipe ( | ). Os arquivos encontram-se compactados (em formato .zip) pelo software 7-zip e devem ser descompactados no diretório C:\\ do seu disco rígido.  \n",
    " \n",
    "#### LEIA-ME \n",
    "\n",
    "Este presente instrumento traz instruções fundamentais para a correta extração e manipulação dos Microdados, como orientações para abrir os arquivos nos softwares R, SPSS e SAS. É, portanto, uma espécie de “Manual do Usuário” que traz os Dicionários das Variáveis do Censo da Educação Superior 2017. \n",
    " \n",
    "#### FILTROS DA EDUCAÇÃO SUPERIOR \n",
    "\n",
    "É um documento que norteia o usuário na obtenção de dados em sintonia com os valores publicados nas Sinopses Estatísticas produzidas pelo INEP. Nele, são elencados, de forma simples, os principais filtros e funções que devem ser aplicados. \n",
    " \n",
    "#### ANEXO I – Dicionários de dados e Tabelas Auxiliares \n",
    "\n",
    "Contém, em formato .xlsx (Excel), o Dicionário de Dados do Censo da Educação Superior 2017 e também uma tabela auxiliar com o código e o nome dos países: \n",
    "\n",
    "1.DICIONÁRIO DE DADOS \n",
    "\n",
    "- TABELA DE ALUNO \n",
    "- TABELA DE CURSO \n",
    "- TABELA DE IES \n",
    "- TABELA DE LOCAL DE OFERTA \n",
    "- TABELA DE DOCENTE \n",
    "- TABELA AUXILIAR OCDE \n",
    " \n",
    "2.TABELA CONTENDO O NOME DO PAÍS DE ORIGEM OU NATURALIZAÇÃO \n",
    " \n",
    "#### ANEXO II – Questionários do Censo da Educação Superior  \n",
    "\n",
    "Contém, em formato .pdf (Portable Document Format), os seguintes questionários do Censo da Educação Superior 2017 e estão disponíveis para download na pasta anexos: \n",
    "\n",
    "- MÓDULO IES \n",
    "- MÓDULO CURSO \n",
    "- MÓDULO DOCENTE \n",
    "- MÓDULO ALUNO "
   ]
  },
  {
   "cell_type": "markdown",
   "metadata": {},
   "source": [
    "# DESAFIO 2\n",
    "\n",
    "<br>\n",
    "<img src=\"img/dh.png\" width=\"550\" />\n",
    "<br>\n",
    "\n",
    "## Parte Coletiva\n",
    "\n",
    "### Obrigatório:\n",
    "\n",
    "1) Tabelas com número de universidades públicas e privadas por estado e número de alunos por universidade \n",
    "\n",
    "2) Pergunta-se: é verdade que existe menos mulheres nos cursos de exatas? Explique com os dados.\n",
    "\n",
    "3) Quantos cursos novos abrem por ano? \n",
    "\n",
    "4) Se usarmos a taxa de concluientes de um curso como variável de dificuldade dos cursos, eles tem ficado mais faceis ou mais duros ao longo do tempo? Quais as dificuldades para uma afirmação dessas?\n",
    "\n",
    "5) Rode uma regressão multipla que explique o abandono dos cursos, será que professores mais/menos preparados influência nessas taxas?\n",
    "\n",
    "6) Quais os cursos com maior crescimento de matriculas por região? E quais os com maior queda? Como você explicaria isso.\n",
    "\n",
    "7) Construa uma variável \"Signo\" dos estudantes e explique porque ela é correlacionada com a variável \"probabilidade de formação\" (construir)\n",
    "\n",
    "### Facultativo:\n",
    "\n",
    "1) Crie um mapa das universidades no pais.\n",
    "\n",
    "2) Alunos estrangeiros são melhores resilientes (para terminar um curso) que os brasileiros? Quais as dificuldades dessa análise?\n",
    "\n",
    "3) Se você tivesse que abrir um curso (apenas um curso de graduação), qual seria, onde ele seria, qual a modalidade.\n",
    "\n",
    "## Parte Individual.\n",
    "\n",
    "### Obrigatório:\n",
    "\n",
    "1) Pense na Hipótese de 2 universidades A e B onde X é a média de notas delas e elas tem exatamente os mesmos cursos. É possível que A_X > B_X e TODOS os cursos de B sejam melhores (notas maiores) que os de A? Explique (não são necessários códigos, apenas a explicação). Dica: paradoxo de simpson.\n",
    "\n",
    "2) Rode uma regressão multipla que use, entre outras, a carga horária de um curso como variavel independente para explicar a idade dos alunos formados.\n",
    "\n",
    "3) Qual a probabilidade de pegarmos um professor ao acaso no Brasil e ele ter mais do que o dobro da sua idade dado que ele é homem.\n",
    "\n",
    "Obs: Não usar informações que não estejam na pasta Desafios nas partes **Obrigatórias**\n",
    "\n",
    "## Data da entrega: 03 de Setembro (terça-feira)"
   ]
  },
  {
   "cell_type": "markdown",
   "metadata": {},
   "source": [
    "# DESAFIO 2 - Grupo:\n",
    "\n",
    "Nome dos integrantes do grupo"
   ]
  },
  {
   "cell_type": "code",
   "execution_count": null,
   "metadata": {},
   "outputs": [],
   "source": []
  },
  {
   "cell_type": "code",
   "execution_count": null,
   "metadata": {},
   "outputs": [],
   "source": []
  }
 ],
 "metadata": {
  "kernelspec": {
   "display_name": "Python 3",
   "language": "python",
   "name": "python3"
  },
  "language_info": {
   "codemirror_mode": {
    "name": "ipython",
    "version": 3
   },
   "file_extension": ".py",
   "mimetype": "text/x-python",
   "name": "python",
   "nbconvert_exporter": "python",
   "pygments_lexer": "ipython3",
   "version": "3.7.3"
  },
  "latex_envs": {
   "LaTeX_envs_menu_present": true,
   "autoclose": false,
   "autocomplete": true,
   "bibliofile": "biblio.bib",
   "cite_by": "apalike",
   "current_citInitial": 1,
   "eqLabelWithNumbers": true,
   "eqNumInitial": 1,
   "hotkeys": {
    "equation": "Ctrl-E",
    "itemize": "Ctrl-I"
   },
   "labels_anchors": false,
   "latex_user_defs": false,
   "report_style_numbering": false,
   "user_envs_cfg": false
  },
  "toc": {
   "base_numbering": 1,
   "nav_menu": {},
   "number_sections": true,
   "sideBar": true,
   "skip_h1_title": false,
   "title_cell": "Table of Contents",
   "title_sidebar": "Contents",
   "toc_cell": false,
   "toc_position": {},
   "toc_section_display": true,
   "toc_window_display": false
  },
  "varInspector": {
   "cols": {
    "lenName": 16,
    "lenType": 16,
    "lenVar": 40
   },
   "kernels_config": {
    "python": {
     "delete_cmd_postfix": "",
     "delete_cmd_prefix": "del ",
     "library": "var_list.py",
     "varRefreshCmd": "print(var_dic_list())"
    },
    "r": {
     "delete_cmd_postfix": ") ",
     "delete_cmd_prefix": "rm(",
     "library": "var_list.r",
     "varRefreshCmd": "cat(var_dic_list()) "
    }
   },
   "types_to_exclude": [
    "module",
    "function",
    "builtin_function_or_method",
    "instance",
    "_Feature"
   ],
   "window_display": false
  }
 },
 "nbformat": 4,
 "nbformat_minor": 2
}
