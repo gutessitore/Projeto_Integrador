{
 "cells": [
  {
   "cell_type": "code",
   "execution_count": null,
   "metadata": {},
   "outputs": [],
   "source": [
    "import pandas as pd\n",
    "import sqlite3\n",
    "import os"
   ]
  },
  {
   "cell_type": "code",
   "execution_count": null,
   "metadata": {},
   "outputs": [],
   "source": [
    "db = sqlite3.connect(r\"C:/Users/DH/Desktop/Desafio.db\")"
   ]
  },
  {
   "cell_type": "code",
   "execution_count": null,
   "metadata": {},
   "outputs": [],
   "source": [
    "# Quantidade Faculdades Publicas e Particular por Estado\n",
    "\n",
    "Query1 = ('''\n",
    "\n",
    "SELECT  T1.CO_UF,\n",
    "        T1.TP_CATEGORIA_ADMINISTRATIVA,\n",
    "        SUM(CASE WHEN T1.TP_CATEGORIA_ADMINISTRATIVA IN (1,2,3) THEN 1 ELSE 0 END) AS QTD_PUBLICA,\n",
    "        SUM(CASE WHEN T1.TP_CATEGORIA_ADMINISTRATIVA IN (4,5,6) THEN 1 ELSE 0 END) AS QTD_PARTICULAR\n",
    "FROM    DM_IES T1\n",
    "GROUP BY T1.CO_UF, T1.TP_CATEGORIA_ADMINISTRATIVA;\n",
    "\n",
    "              ''')\n",
    "\n",
    "df_1 = pd.read_sql_query(Query1,db)\n",
    "df_1"
   ]
  },
  {
   "cell_type": "code",
   "execution_count": null,
   "metadata": {},
   "outputs": [],
   "source": [
    "# Quantidade Alunos por Instituição de Ensino Superior\n",
    "\n",
    "Query2 = ('''\n",
    "\n",
    "SELECT  T2.NO_IES,\n",
    "        COUNT(T1.CO_ALUNO) AS QTD_ALUNOS\n",
    "FROM DM_ALUNO T1\n",
    "INNER JOIN DM_IES T2 ON T1.CO_IES = T2.CO_IES\n",
    "GROUP BY T2.NO_IES;\n",
    "\n",
    "              ''')\n",
    "\n",
    "df_2 = pd.read_sql_query(Query2,db)\n",
    "df_2"
   ]
  },
  {
   "cell_type": "code",
   "execution_count": null,
   "metadata": {},
   "outputs": [],
   "source": [
    "# Menos mulheres nos cursos de exatas?\n",
    "\n",
    "Query3 = ('''\n",
    "\n",
    "    SELECT CASE WHEN T3.CO_OCDE_AREA_GERAL = 1 THEN 'Educação'\n",
    "        WHEN T3.CO_OCDE_AREA_GERAL = 2 THEN 'Humanidades e Artes'\n",
    "        WHEN T3.CO_OCDE_AREA_GERAL = 3 THEN 'Ciências Sociais, Negócios e Direito'\n",
    "        WHEN T3.CO_OCDE_AREA_GERAL = 4 THEN 'Ciências, Matemática e Computação'\n",
    "        WHEN T3.CO_OCDE_AREA_GERAL = 5 THEN 'Engenharia, Produção e Construção'\n",
    "        WHEN T3.CO_OCDE_AREA_GERAL = 6 THEN 'Agricultura e Veterinária'\n",
    "        WHEN T3.CO_OCDE_AREA_GERAL = 7 THEN 'Saúde e Bem Estar Social'\n",
    "        WHEN T3.CO_OCDE_AREA_GERAL = 8 THEN 'Serviços'\n",
    "        END AS AREA,\n",
    "        SUM(CASE WHEN T1.TP_SEXO = 1 THEN 1 ELSE 0 END) AS QTD_FEM,\n",
    "        SUM(CASE WHEN T1.TP_SEXO = 2 THEN 1 ELSE 0 END) AS QTD_MASC,\n",
    "        SUM(CASE WHEN T1.TP_SEXO = 1 THEN 1 ELSE 0 END)/SUM(1)*100 AS PERC_FEM,\n",
    "        SUM(CASE WHEN T1.TP_SEXO = 2 THEN 1 ELSE 0 END)/SUM(1)*100 AS PERC_MASC\n",
    "    FROM DM_ALUNO T1\n",
    "    INNER JOIN DM_IES T2 ON T1.CO_IES = T2.CO_IES\n",
    "    INNER JOIN DM_CURSO T3 ON T1.CO_CURSO = T3.CO_CURSO\n",
    "    WHERE T3.CO_OCDE_AREA_GERAL IS NOT NULL\n",
    "    GROUP BY T3.CO_OCDE_AREA_GERAL;\n",
    "\n",
    "              ''')\n",
    "\n",
    "df_3 = pd.read_sql_query(Query3,db)\n",
    "df_3"
   ]
  },
  {
   "cell_type": "code",
   "execution_count": null,
   "metadata": {},
   "outputs": [],
   "source": [
    "# Quantidade de cursos que abrem ao ano\n",
    "\n",
    "Query4 = ('''\n",
    "\n",
    "    SELECT ANO, SUM(QTD_CURSO) AS QTD_CURSO\n",
    "    FROM\n",
    "                    (SELECT YEAR(T1.DT_INICIO_FUNCIONAMENTO) AS ANO,\n",
    "                    1 AS QTD_CURSO\n",
    "                    FROM DM_CURSO T1\n",
    "                    WHERE T1.DT_INICIO_FUNCIONAMENTO IS NOT NULL)\n",
    "    GROUP BY ANO;\n",
    "\n",
    "              ''')\n",
    "\n",
    "df_4 = pd.read_sql_query(Query4,db)\n",
    "df_4"
   ]
  },
  {
   "cell_type": "code",
   "execution_count": null,
   "metadata": {},
   "outputs": [],
   "source": [
    "# Taxa de concluientes foi utilizado a qtde de concluientes pela quantidade de matriculados por curso\n",
    "# As taxas de dificuldade se mantém consistentes entre 13 a 18% sem grandes variações\n",
    "# A dificuldade de se analisar dos últimos meses é pelo fato dos matriculados ainda estarem com o curso em andamento\n",
    "\n",
    "Query5 = ('''\n",
    "\n",
    "    SELECT ANO, SUM(QT_MATRICULA_TOTAL) AS QT_MATRICULA_TOTAL, \n",
    "            SUM(QT_CONCLUINTE_TOTAL) AS QT_CONCLUINTE_TOTAL,\n",
    "            SUM(QT_CONCLUINTE_TOTAL)/SUM(QT_MATRICULA_TOTAL) AS PERC_CONCLUSAO\n",
    "        FROM\n",
    "            (SELECT YEAR(T1.DT_INICIO_FUNCIONAMENTO) AS ANO,\n",
    "             QT_MATRICULA_TOTAL,\n",
    "             QT_CONCLUINTE_TOTAL\n",
    "            FROM DM_CURSO T1\n",
    "            WHERE T1.DT_INICIO_FUNCIONAMENTO IS NOT NULL)\n",
    "        GROUP BY ANO;\n",
    "\n",
    "              ''')\n",
    "\n",
    "df_5 = pd.read_sql_query(Query5,db)\n",
    "df_5"
   ]
  },
  {
   "cell_type": "code",
   "execution_count": null,
   "metadata": {},
   "outputs": [],
   "source": [
    "# Realizar no phyton a diferença entre a qtde de matriculados do menor ano pelo o de maior ano\n",
    "\n",
    "Query6 = ('''\n",
    "\n",
    "    SELECT CO_UF, ANO, SUM(QT_MATRICULA_TOTAL) AS QT_MATRICULA_TOTAL\n",
    "        FROM\n",
    "        (SELECT CO_UF, \n",
    "            YEAR(T1.DT_INICIO_FUNCIONAMENTO) AS ANO,\n",
    "            QT_MATRICULA_TOTAL\n",
    "            FROM DM_CURSO T1\n",
    "            WHERE T1.DT_INICIO_FUNCIONAMENTO IS NOT NULL\n",
    "            AND CO_UF IS NOT NULL)\n",
    "        GROUP BY CO_UF, ANO;\n",
    "\n",
    "              ''')\n",
    "\n",
    "df_6 = pd.read_sql_query(Query6,db)\n",
    "df_6"
   ]
  }
 ],
 "metadata": {
  "kernelspec": {
   "display_name": "Python 3",
   "language": "python",
   "name": "python3"
  },
  "language_info": {
   "codemirror_mode": {
    "name": "ipython",
    "version": 3
   },
   "file_extension": ".py",
   "mimetype": "text/x-python",
   "name": "python",
   "nbconvert_exporter": "python",
   "pygments_lexer": "ipython3",
   "version": "3.7.3"
  }
 },
 "nbformat": 4,
 "nbformat_minor": 2
}
